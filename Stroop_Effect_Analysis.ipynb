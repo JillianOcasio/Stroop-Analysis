{
 "cells": [
  {
   "cell_type": "markdown",
   "metadata": {},
   "source": [
    "# The Stroop Effect Analysis "
   ]
  },
  {
   "cell_type": "markdown",
   "metadata": {},
   "source": [
    "The stroop effect is a a psychological phenonmenon where an interference is used, in this example it is colored font, to test the effect the interference on the subjects response.  The experiment, usually called the stroop effect test contains text that is colored in a specific manner (depending on the experimental design) the subject is then asked to read either the text or state out loud the color of the text.  The text and colors are used specifically to test the subject.  that is congruent, incongruent, and nuetral.  This analysis will look at a experiment performed to demonstrate the stroop effect.   "
   ]
  },
  {
   "cell_type": "code",
   "execution_count": 1,
   "metadata": {
    "collapsed": true
   },
   "outputs": [],
   "source": [
    "import numpy as np \n",
    "import pandas as pd \n",
    "import matplotlib.pyplot as plt\n",
    "import csv\n",
    "import scipy.stats as stats\n",
    "from scipy.stats import ttest_ind\n",
    "from math import sqrt\n",
    "from scipy.stats import t"
   ]
  },
  {
   "cell_type": "code",
   "execution_count": 2,
   "metadata": {
    "collapsed": true
   },
   "outputs": [],
   "source": [
    "stroop_df=pd.read_csv(\"stroopdata.csv\")"
   ]
  },
  {
   "cell_type": "markdown",
   "metadata": {},
   "source": [
    "In the experiment in this analysisis presented a list of words.  The color of the font will vary depending two conditions of the experiment: congruent, the words displayed are color words whose names match the colors in which they are printed, and incongruent, the words displayed are different color words that do not match the colors printed.   The participant is timed while she/he reads through the list of colored words out loud. "
   ]
  },
  {
   "cell_type": "code",
   "execution_count": 3,
   "metadata": {},
   "outputs": [
    {
     "data": {
      "text/html": [
       "<div>\n",
       "<style>\n",
       "    .dataframe thead tr:only-child th {\n",
       "        text-align: right;\n",
       "    }\n",
       "\n",
       "    .dataframe thead th {\n",
       "        text-align: left;\n",
       "    }\n",
       "\n",
       "    .dataframe tbody tr th {\n",
       "        vertical-align: top;\n",
       "    }\n",
       "</style>\n",
       "<table border=\"1\" class=\"dataframe\">\n",
       "  <thead>\n",
       "    <tr style=\"text-align: right;\">\n",
       "      <th></th>\n",
       "      <th>Congruent</th>\n",
       "      <th>Incongruent</th>\n",
       "    </tr>\n",
       "  </thead>\n",
       "  <tbody>\n",
       "    <tr>\n",
       "      <th>0</th>\n",
       "      <td>12.079</td>\n",
       "      <td>19.278</td>\n",
       "    </tr>\n",
       "    <tr>\n",
       "      <th>1</th>\n",
       "      <td>16.791</td>\n",
       "      <td>18.741</td>\n",
       "    </tr>\n",
       "    <tr>\n",
       "      <th>2</th>\n",
       "      <td>9.564</td>\n",
       "      <td>21.214</td>\n",
       "    </tr>\n",
       "    <tr>\n",
       "      <th>3</th>\n",
       "      <td>8.630</td>\n",
       "      <td>15.687</td>\n",
       "    </tr>\n",
       "    <tr>\n",
       "      <th>4</th>\n",
       "      <td>14.669</td>\n",
       "      <td>22.803</td>\n",
       "    </tr>\n",
       "    <tr>\n",
       "      <th>5</th>\n",
       "      <td>12.238</td>\n",
       "      <td>20.878</td>\n",
       "    </tr>\n",
       "    <tr>\n",
       "      <th>6</th>\n",
       "      <td>14.692</td>\n",
       "      <td>24.572</td>\n",
       "    </tr>\n",
       "    <tr>\n",
       "      <th>7</th>\n",
       "      <td>8.987</td>\n",
       "      <td>17.394</td>\n",
       "    </tr>\n",
       "    <tr>\n",
       "      <th>8</th>\n",
       "      <td>9.401</td>\n",
       "      <td>20.762</td>\n",
       "    </tr>\n",
       "    <tr>\n",
       "      <th>9</th>\n",
       "      <td>14.480</td>\n",
       "      <td>26.282</td>\n",
       "    </tr>\n",
       "  </tbody>\n",
       "</table>\n",
       "</div>"
      ],
      "text/plain": [
       "   Congruent  Incongruent\n",
       "0     12.079       19.278\n",
       "1     16.791       18.741\n",
       "2      9.564       21.214\n",
       "3      8.630       15.687\n",
       "4     14.669       22.803\n",
       "5     12.238       20.878\n",
       "6     14.692       24.572\n",
       "7      8.987       17.394\n",
       "8      9.401       20.762\n",
       "9     14.480       26.282"
      ]
     },
     "execution_count": 3,
     "metadata": {},
     "output_type": "execute_result"
    }
   ],
   "source": [
    "stroop_df.head(10)"
   ]
  },
  {
   "cell_type": "markdown",
   "metadata": {},
   "source": [
    "Looking at the first 10 samples of the data it seems, independant variable is whether the colored word and whether it is incongruent or congruent.   The dependant variable is the time it takes to read the list of words outloud.   To understand the data further I would like to look at the descriptive statistics and the distribution of the data. "
   ]
  },
  {
   "cell_type": "code",
   "execution_count": 4,
   "metadata": {},
   "outputs": [
    {
     "data": {
      "text/html": [
       "<div>\n",
       "<style>\n",
       "    .dataframe thead tr:only-child th {\n",
       "        text-align: right;\n",
       "    }\n",
       "\n",
       "    .dataframe thead th {\n",
       "        text-align: left;\n",
       "    }\n",
       "\n",
       "    .dataframe tbody tr th {\n",
       "        vertical-align: top;\n",
       "    }\n",
       "</style>\n",
       "<table border=\"1\" class=\"dataframe\">\n",
       "  <thead>\n",
       "    <tr style=\"text-align: right;\">\n",
       "      <th></th>\n",
       "      <th>Congruent</th>\n",
       "      <th>Incongruent</th>\n",
       "    </tr>\n",
       "  </thead>\n",
       "  <tbody>\n",
       "    <tr>\n",
       "      <th>count</th>\n",
       "      <td>24.000000</td>\n",
       "      <td>24.000000</td>\n",
       "    </tr>\n",
       "    <tr>\n",
       "      <th>mean</th>\n",
       "      <td>14.051125</td>\n",
       "      <td>22.015917</td>\n",
       "    </tr>\n",
       "    <tr>\n",
       "      <th>std</th>\n",
       "      <td>3.559358</td>\n",
       "      <td>4.797057</td>\n",
       "    </tr>\n",
       "    <tr>\n",
       "      <th>min</th>\n",
       "      <td>8.630000</td>\n",
       "      <td>15.687000</td>\n",
       "    </tr>\n",
       "    <tr>\n",
       "      <th>25%</th>\n",
       "      <td>11.895250</td>\n",
       "      <td>18.716750</td>\n",
       "    </tr>\n",
       "    <tr>\n",
       "      <th>50%</th>\n",
       "      <td>14.356500</td>\n",
       "      <td>21.017500</td>\n",
       "    </tr>\n",
       "    <tr>\n",
       "      <th>75%</th>\n",
       "      <td>16.200750</td>\n",
       "      <td>24.051500</td>\n",
       "    </tr>\n",
       "    <tr>\n",
       "      <th>max</th>\n",
       "      <td>22.328000</td>\n",
       "      <td>35.255000</td>\n",
       "    </tr>\n",
       "  </tbody>\n",
       "</table>\n",
       "</div>"
      ],
      "text/plain": [
       "       Congruent  Incongruent\n",
       "count  24.000000    24.000000\n",
       "mean   14.051125    22.015917\n",
       "std     3.559358     4.797057\n",
       "min     8.630000    15.687000\n",
       "25%    11.895250    18.716750\n",
       "50%    14.356500    21.017500\n",
       "75%    16.200750    24.051500\n",
       "max    22.328000    35.255000"
      ]
     },
     "execution_count": 4,
     "metadata": {},
     "output_type": "execute_result"
    }
   ],
   "source": [
    "stroop_df.describe()"
   ]
  },
  {
   "cell_type": "markdown",
   "metadata": {},
   "source": [
    "In the incongruent sample the mean time it took the participant read out loud all of the words was 22.0 secoconds where as in the congruent sample it is 14.1 seconds.  One interesting data point is the stanadard deviation.  The standard deviation for the congruent data is 3.56 for congruent and 4.80 for incongruent.   Therefore, I expect that the incongruent data will have more dispersion then the congruent data.  To get a better look at the distribution I would like to create boxplot of the time. "
   ]
  },
  {
   "cell_type": "code",
   "execution_count": 5,
   "metadata": {
    "collapsed": true
   },
   "outputs": [],
   "source": [
    "congruentsample=stroop_df['Congruent']\n",
    "incongruentsample=stroop_df['Incongruent']"
   ]
  },
  {
   "cell_type": "code",
   "execution_count": 24,
   "metadata": {},
   "outputs": [
    {
     "data": {
      "image/png": "[encoded data removed]",
      "text/plain": [
       "<matplotlib.figure.Figure at 0x1198b37f0>"
      ]
     },
     "metadata": {},
     "output_type": "display_data"
    }
   ],
   "source": [
    "#The times in the sample boxplot. \n",
    "stroop_df.boxplot()\n",
    "plt.ylabel('Time in Seconds')\n",
    "plt.title('Response time by condition')\n",
    "plt.show()"
   ]
  },
  {
   "cell_type": "code",
   "execution_count": null,
   "metadata": {
    "collapsed": true
   },
   "outputs": [],
   "source": []
  },
  {
   "cell_type": "markdown",
   "metadata": {
    "collapsed": true
   },
   "source": [
    "The distribution is interesting in both samples. There are a couple of participants who have a time of over 30 seconds in the incongruent samples whereas there are some in the congruent sample.  It's interesting that the congruent samples has a wider distribution but no outliers whereas the incongruent sample has a narrower distribution with a few outlers.   \n",
    "\n",
    "To confirm and draw inferences about the stroop effect we can perform a hypothesis test on this sample. The t-test is most appropriate for this sample because the small size of the sample (24), the population data is unavailable, and the distribution is relatively dispersed when considering the sample size.  Additionally, the same person completes both the congruent and incongruent test, so the dependant t-test is the most appropriate statistical test for this sample."
   ]
  },
  {
   "cell_type": "markdown",
   "metadata": {},
   "source": [
    "The Null Hypothesis for the T-test is there is no significant difference between the congruent and incongruent sample times.\n",
    "\n",
    "The Alternative Hypothesis is that there is a significant difference between the congruent and incongruent sample times.  \n",
    "\n",
    "With an alpha level of 5%. \n",
    "\n",
    "In mathematical terms the Hypothesis is: \n",
    "H0:µcongruent=µincongruent\n",
    "H1:µcongruent≠µincongruent\n",
    "α = .05"
   ]
  },
  {
   "cell_type": "markdown",
   "metadata": {},
   "source": [
    "The criticial values for the t test are +/- 2.069.   "
   ]
  },
  {
   "cell_type": "code",
   "execution_count": 8,
   "metadata": {},
   "outputs": [
    {
     "name": "stdout",
     "output_type": "stream",
     "text": [
      "Ttest_relResult(statistic=8.020706944109957, pvalue=4.1030005857111781e-08)\n"
     ]
    }
   ],
   "source": [
    "#Performing a ttest comparing the two samples \n",
    "t=stats.ttest_rel(stroop_df['Incongruent'], stroop_df['Congruent'])\n",
    "print (t)"
   ]
  },
  {
   "cell_type": "markdown",
   "metadata": {},
   "source": [
    "The t statistic is well above the critical value at 8.02.   The pvalue is less than .0001.  Therefore we would reject the null at an alpha level of .05.  "
   ]
  },
  {
   "cell_type": "code",
   "execution_count": 17,
   "metadata": {
    "collapsed": true
   },
   "outputs": [],
   "source": [
    "n = 24\n",
    "mean_diff=stroop_df[\"Incongruent\"].mean()-stroop_df['Congruent'].mean()\n",
    "c_i_diff=stroop_df[\"Incongruent\"]-stroop_df['Congruent']\n",
    "std_diff=np.std(c_i_diff)\n"
   ]
  },
  {
   "cell_type": "code",
   "execution_count": 18,
   "metadata": {},
   "outputs": [
    {
     "name": "stdout",
     "output_type": "stream",
     "text": [
      "\n",
      "The difference between groups is 8.0 [6.0 to 10.0] (mean [95% CI])\n"
     ]
    }
   ],
   "source": [
    "#The confidence interval for the true difference between the incongruent and congruent tests \n",
    "# Calculate the mean difference and 95% confidence interval\n",
    "\n",
    "df = n-1\n",
    "t_critical= 2.069 #Looked up from Chart \n",
    "std_error=std_diff/sqrt(n)\n",
    "moe=t_critical*std_error\n",
    "\n",
    "print ('\\nThe difference between groups is {:3.1f} [{:3.1f} to {:3.1f}] (mean [95% CI])'.format(mean_diff, mean_diff - moe, mean_diff + moe))\n"
   ]
  },
  {
   "cell_type": "markdown",
   "metadata": {},
   "source": [
    "Based on my calculations the 95% confidence interval is 6 to 10 seconds of difference between the congruent and incongruent data. Which is interesting.  The t-statistic was significant so this aids in the conclusion that we should reject the null hypothesis.   "
   ]
  },
  {
   "cell_type": "code",
   "execution_count": 20,
   "metadata": {},
   "outputs": [
    {
     "name": "stdout",
     "output_type": "stream",
     "text": [
      "\n",
      "The proportion of difference in time that can be attributed to congreunt or incongruent sample is 0.736636416144506\n"
     ]
    }
   ],
   "source": [
    "r2=(t[0])**2/(t[0]**2+df)\n",
    "print ('\\nThe proportion of difference in time that can be attributed to congreunt or incongruent sample is {}'.format(r2))"
   ]
  },
  {
   "cell_type": "markdown",
   "metadata": {},
   "source": [
    "# Conclusions"
   ]
  },
  {
   "cell_type": "markdown",
   "metadata": {},
   "source": [
    "Based on the data I found that there is a significant difference between the congruent and incongruent times for participants in the experiment sample provided.  Incongruent times are significantly slower than congruent times. With a pvalue of less than .0001 and a t-statistic of 8.02 I rejected the null hypothesis, that stated the congruent and incongruent tests would be similar.  The 95% confidence interval for the mean difference between the two samples is 6 and 10 seconds.   Further the R^2 of .74 shows that a large portion of the time difference can explained by sample being congruent or incongruent.  \n",
    "\n",
    "The stroop effect is used to demonstrate selective attention. In this sample, the interference is correlated by about 74% to the participants delayed time.    While there seems to be a correlation betweeen the sample type and the results it's difficult to prove causation without further experimentation and information about the sample and experimental design. \n",
    "\n"
   ]
  }
 ],
 "metadata": {
  "kernelspec": {
   "display_name": "Python [default]",
   "language": "python",
   "name": "python3"
  },
  "language_info": {
   "codemirror_mode": {
    "name": "ipython",
    "version": 3
   },
   "file_extension": ".py",
   "mimetype": "text/x-python",
   "name": "python",
   "nbconvert_exporter": "python",
   "pygments_lexer": "ipython3",
   "version": "3.6.1"
  }
 },
 "nbformat": 4,
 "nbformat_minor": 2
}
